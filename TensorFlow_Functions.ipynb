{
  "nbformat": 4,
  "nbformat_minor": 0,
  "metadata": {
    "colab": {
      "provenance": [],
      "authorship_tag": "ABX9TyPsU2iXtruyOB3R9IDDWagT",
      "include_colab_link": true
    },
    "kernelspec": {
      "name": "python3",
      "display_name": "Python 3"
    },
    "language_info": {
      "name": "python"
    }
  },
  "cells": [
    {
      "cell_type": "markdown",
      "metadata": {
        "id": "view-in-github",
        "colab_type": "text"
      },
      "source": [
        "<a href=\"https://colab.research.google.com/github/Peebs-Tech/TensorFlow---repo/blob/main/TensorFlow_Functions.ipynb\" target=\"_parent\"><img src=\"https://colab.research.google.com/assets/colab-badge.svg\" alt=\"Open In Colab\"/></a>"
      ]
    },
    {
      "cell_type": "markdown",
      "source": [
        "### Helper functions for future projects"
      ],
      "metadata": {
        "id": "1LPIHtcQUzvz"
      }
    },
    {
      "cell_type": "code",
      "source": [
        "import tensorflow as tf"
      ],
      "metadata": {
        "id": "Wa5zpXFXC-MK"
      },
      "execution_count": 1,
      "outputs": []
    },
    {
      "cell_type": "code",
      "source": [
        "# import & resize image for model use\n",
        "\n",
        "def peebs_load_and_prepare_image(filename, img_shape=224, scale = True):\n",
        "  \"\"\"\n",
        "  Reads an image from filename and turns it into tensor of size (224, 224, 3)\n",
        "\n",
        "  Parameters\n",
        "  ----------\n",
        "  filename (str)\n",
        "  img_shape (int)\n",
        "  scale (bool): whether to scale the pixel values to range (0, 1)\n",
        "  \"\"\"\n",
        "  \n",
        "  # Read the image\n",
        "  img = tf.io.read_file(filename)\n",
        "  # Decode into tensor\n",
        "  img = tf.image.decode_jpeg(img)\n",
        "  # Resize the image\n",
        "  img = tf.image.resize(img, [img_shape, img_shape])\n",
        "  if scale:\n",
        "    # Rescale the image (get all values from 0 and 1)\n",
        "    return img/255.\n",
        "  else:\n",
        "    return img"
      ],
      "metadata": {
        "id": "E4YMyAyxDAjz"
      },
      "execution_count": 3,
      "outputs": []
    },
    {
      "cell_type": "code",
      "source": [
        "# Remix scikit-learn confusion matrix\n",
        "import itertools\n",
        "import matplotlib.pyplot as plt\n",
        "import numpy as np\n",
        "from sklearn.metrics import confusion_matrix\n",
        "\n",
        "\n",
        "def peebs_confusion_matrix(y_true, y_pred, classes = None, figsize = (10, 10), text_size = 15, norm = False, savefig = False):\n",
        "  \"\"\"\n",
        "  Compare predictions and ground truth labels \n",
        "\n",
        "  classes should be passed in order to have a labelled confusion matrix | integer values will be used otherwise\n",
        "\n",
        "  Args:\n",
        "  y_true: Array of truth labels (must be shaped as y_pred)\n",
        "  y_pred: Array of predicted labels (must be same shape as y_true)\n",
        "  classes: Arrays of class labels (e.g. string form). If `None`, integer labels are used\n",
        "  figsize: Size of output figure (default(10, 10))\n",
        "  text_size: Size of the output figure text (default = 15)\n",
        "  norm: Normalize values or not (default = False)\n",
        "  savefig: save confusion matrix to file (default = False)\n",
        "  \n",
        "\n",
        "  returns:\n",
        "    A labelled confusion matrix plot comparing y_true and y_pred\n",
        "  \"\"\"\n",
        "\n",
        "  # Create the confusion matrix\n",
        "  cm = confusion_matrix(y_true, y_pred)\n",
        "  cm_norm = cm.astype(\"float\") / cm.sum(axis = 1)[:, np.newaxis] #normalize it\n",
        "  n_classes = cm.shape[0] \n",
        "\n",
        "  # Plot the figure \n",
        "  fig, ax = plt.subplots(figsize = figsize)\n",
        "  cax = ax.matshow(cm, cmap = plt.cm.Blues)# colors will represent how 'correct' a class is, darker == better\n",
        "  fig.colorbar(cax)\n",
        "\n",
        "  # List of classe?\n",
        "  if classes:\n",
        "    labels = classes\n",
        "  else:\n",
        "    labels = np.arange(cm.shape[0])\n",
        "\n",
        "  # Label the axes\n",
        "  ax.set(title=\"Confusion Matrix\",\n",
        "         xlabel = \"Predicted Label\",\n",
        "         y_label =  \"True Label\",\n",
        "         xticks = np.arange(n_classes),\n",
        "         yticks = np.arange(n_classes),\n",
        "         xtickslabels = labels,\n",
        "         ytickslabels = labels)\n",
        "  \n",
        "  # Make x-axis labels appear on bottom \n",
        "  ax.xaxis.set_label_position(\"bottom\")\n",
        "  ax.xaxis.tick_bottom()\n",
        "\n",
        "  # Set the threshold for different colors\n",
        "  threshold  = (cm.max() + cm.min()) / 2.\n",
        "\n",
        "  # Plot the text on each cell\n",
        "  for i, j in itertools.product(range(cm.shape[0]), range(cm.shape[1])):\n",
        "    if norm:\n",
        "      plt.text(j, i, f\"{cm[i, j]} {cm_norm[i, j]*100:.1f}%)\",\n",
        "               horizontalalignment = \"center\",\n",
        "               color = \"white\" if cm[i, j] > threshold else \"black\",\n",
        "               size = text_size)\n",
        "    else:\n",
        "      plt.text(j, i, f\"{cm[i, j]}\",\n",
        "               horizontalalignment = \"center\",\n",
        "               color = \"white\" if cm[i, j] > threshold else \"black\",\n",
        "               size = text_size)\n",
        "      \n",
        "  # Save the figure to the current working directory\n",
        "  if savefig:\n",
        "    fig.savefig(\"confusion_matrix.png\")"
      ],
      "metadata": {
        "id": "a7iC5BAKETxb"
      },
      "execution_count": 6,
      "outputs": []
    },
    {
      "cell_type": "code",
      "source": [],
      "metadata": {
        "id": "xCRnmJDyLWxY"
      },
      "execution_count": null,
      "outputs": []
    }
  ]
}